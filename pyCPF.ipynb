{
  "nbformat": 4,
  "nbformat_minor": 0,
  "metadata": {
    "colab": {
      "provenance": [],
      "collapsed_sections": [],
      "authorship_tag": "ABX9TyMBDL8ke6ccAYiILohl82tp",
      "include_colab_link": true
    },
    "kernelspec": {
      "name": "python3",
      "display_name": "Python 3"
    },
    "language_info": {
      "name": "python"
    }
  },
  "cells": [
    {
      "cell_type": "markdown",
      "metadata": {
        "id": "view-in-github",
        "colab_type": "text"
      },
      "source": [
        "<a href=\"https://colab.research.google.com/github/pycriador/PyCPF/blob/main/pyCPF.ipynb\" target=\"_parent\"><img src=\"https://colab.research.google.com/assets/colab-badge.svg\" alt=\"Open In Colab\"/></a>"
      ]
    },
    {
      "cell_type": "markdown",
      "source": [
        "## Projeto de Agosto\n",
        "\n",
        "\n",
        "Gerador e validador de CPF simples, com vários passos de validação.**texto em negrito**"
      ],
      "metadata": {
        "id": "no6i3ISNl80U"
      }
    },
    {
      "cell_type": "markdown",
      "source": [
        "Primeira função, validador de CPF. Você informa o CPF que você quer validar, a função retorna se o CPF é válido ou não."
      ],
      "metadata": {
        "id": "Za-veAajnLnM"
      }
    },
    {
      "cell_type": "code",
      "execution_count": null,
      "metadata": {
        "id": "UNXu5L5Flxb4"
      },
      "outputs": [],
      "source": [
        "def checkcpf(cpf=None, pretty=False):\n",
        "\n",
        "    if not cpf:\n",
        "        return \"CPF obrigatório\"\n",
        "        \n",
        "    if len(cpf) < 11:\n",
        "        return \"CPF incompleto\"\n",
        "\n",
        "    nums = [int(digit) for digit in cpf if digit.isdigit()]\n",
        "    \n",
        "    sum1 = sum(a*b for a, b in zip(nums[0:9], range(10, 1, -1)))\n",
        "    dig1 = (sum1 * 10 % 11) % 10\n",
        "    if nums[9] != dig1:\n",
        "        return \"Digito 1 incorreto\"\n",
        "\n",
        "    sum2 = sum(a*b for a, b in zip(nums[0:10], range(11, 1, -1)))\n",
        "    dig2 = (sum2 * 10 % 11) % 10\n",
        "    if nums[10] != dig2:\n",
        "        return \"Digito 2 incorreto\"\n",
        "\n",
        "    if pretty:\n",
        "        cpf = '{}.{}.{}-{}'.format(cpf[:3], cpf[3:6], cpf[6:9], cpf[9:])\n",
        "        return cpf\n",
        "    else:\n",
        "        return \"CPF válido\""
      ]
    },
    {
      "cell_type": "markdown",
      "source": [
        "Segunda função é criar um CPF aleatório e com os digitos validadores."
      ],
      "metadata": {
        "id": "No-V4KH5ncnM"
      }
    },
    {
      "cell_type": "code",
      "source": [
        "def createcpf(pretty=None):\n",
        "\n",
        "    from random import randint\n",
        "    \n",
        "    cpf = randint(100000000, 999999999)\n",
        "    \n",
        "    if len(str(cpf)) < 9:\n",
        "        cpf = str(cpf).zfill(9)\n",
        "        \n",
        "    cpf = str(cpf)\n",
        "    nums = [int(digit) for digit in cpf if digit.isdigit()]\n",
        "    \n",
        "    sum1 = sum(a*b for a, b in zip(nums[0:9], range(10, 1, -1)))\n",
        "    dig1 = (sum1 * 10 % 11) % 10\n",
        "    cpf = '{}{}'.format(cpf,dig1)\n",
        "\n",
        "    nums = [int(digit) for digit in cpf if digit.isdigit()]\n",
        "    \n",
        "    sum2 = sum(a*b for a, b in zip(nums[0:10], range(11, 1, -1)))\n",
        "    dig2 = (sum2 * 10 % 11) % 10\n",
        "\n",
        "    if pretty:\n",
        "        cpf = '{}.{}.{}-{}{}'.format(cpf[:3], cpf[3:6], cpf[6:9], cpf[10], dig2)\n",
        "        return cpf\n",
        "    else:\n",
        "        cpf = '{}{}'.format(cpf, dig2)\n",
        "        return cpf\n"
      ],
      "metadata": {
        "id": "tnKG6Jj6nAfe"
      },
      "execution_count": null,
      "outputs": []
    },
    {
      "cell_type": "markdown",
      "source": [
        "Terceira função é utilizada para um output extendido, mostrando como foi feito o cálculo da validação"
      ],
      "metadata": {
        "id": "WStenIWpnrrs"
      }
    },
    {
      "cell_type": "code",
      "source": [
        "def checkcpf_teste(cpf):\n",
        "    soma = 0\n",
        "    cpf_inicial = cpf\n",
        "    print(\"Calculo do primeiro verificador\")\n",
        "    \n",
        "    for a,b in zip(cpf, range(10,1,-1)):\n",
        "        print(f'{a}x{b} = {int(a)*int(b)}')\n",
        "        soma += int(a)*int(b)\n",
        "    print(f'Soma: {soma}')\n",
        "    resto = soma%11\n",
        "    print(f'Resto: {resto}')\n",
        "    \n",
        "    if 11 - resto > 9:\n",
        "        print(f'Verificador 1: {0}')\n",
        "        cpf = str(cpf)\n",
        "        cpf = f\"{cpf}{str(0)}\"\n",
        "    else:\n",
        "        verificador1 = 11-int(resto)\n",
        "        print(f'Verificador 1: {verificador1}')\n",
        "        cpf = str(cpf)\n",
        "        cpf = f\"{cpf}{str(verificador1)}\"\n",
        "    \n",
        "    soma = 0\n",
        "    print(\"Calculo do segundo verificador\")\n",
        "    \n",
        "    for a,b in zip(cpf, range(11,1,-1)):\n",
        "        print(f'{a}x{b} = {int(a)*int(b)}')\n",
        "        soma += int(a)*int(b)\n",
        "    print(f'Soma: {soma}')\n",
        "    resto = soma%11\n",
        "    print(f'Resto: {resto}')\n",
        "    \n",
        "    if 11 - resto > 9:\n",
        "        print(f'Verificador 2: {0}')\n",
        "        cpf = str(cpf)\n",
        "        cpf = f\"{cpf}{str(0)}\"\n",
        "    else:\n",
        "        verificador2 = 11-int(resto)\n",
        "        print(f'Verificador 2: {verificador2}')\n",
        "        cpf = str(cpf)\n",
        "        cpf = f\"{cpf}{str(verificador2)}\"\n",
        "        \n",
        "    print(f\"CPF verificado: {cpf}\")\n",
        "    print(f\"CPF informado: {cpf_inicial}\")"
      ],
      "metadata": {
        "id": "cEj3XQ8ynKH8"
      },
      "execution_count": null,
      "outputs": []
    },
    {
      "cell_type": "markdown",
      "source": [
        "Agora é possível enviar o CPF e validar, ou solicitar um CPF para utilizar como teste na sua aplicação"
      ],
      "metadata": {
        "id": "bD3lPnZQn9PU"
      }
    },
    {
      "cell_type": "code",
      "source": [
        "#Se o CPF for válido e o pretty estiver True, retornará o CPF formatado\n",
        "checkcpf('75515746899', pretty=True)"
      ],
      "metadata": {
        "colab": {
          "base_uri": "https://localhost:8080/",
          "height": 35
        },
        "id": "s4YPmT6ZoJVs",
        "outputId": "812a5077-4a3a-4a03-a27f-c473be1f77b6"
      },
      "execution_count": null,
      "outputs": [
        {
          "output_type": "execute_result",
          "data": {
            "text/plain": [
              "'755.157.468-99'"
            ],
            "application/vnd.google.colaboratory.intrinsic+json": {
              "type": "string"
            }
          },
          "metadata": {},
          "execution_count": 34
        }
      ]
    },
    {
      "cell_type": "code",
      "source": [
        "#Se o CPF for válido e o pretty estiver False, retornará o CPF válido\n",
        "checkcpf('75515746899', pretty=False)"
      ],
      "metadata": {
        "colab": {
          "base_uri": "https://localhost:8080/",
          "height": 35
        },
        "id": "R4UpnCXIpjwt",
        "outputId": "d6e9886d-0508-4247-ca7c-93b870d9dc08"
      },
      "execution_count": null,
      "outputs": [
        {
          "output_type": "execute_result",
          "data": {
            "text/plain": [
              "'CPF válido'"
            ],
            "application/vnd.google.colaboratory.intrinsic+json": {
              "type": "string"
            }
          },
          "metadata": {},
          "execution_count": 19
        }
      ]
    },
    {
      "cell_type": "code",
      "source": [
        "#Se o CPF for inválido, retornará onde está o erro\n",
        "checkcpf('75515746896', pretty=False)"
      ],
      "metadata": {
        "colab": {
          "base_uri": "https://localhost:8080/",
          "height": 35
        },
        "id": "yiIFbyvVpnns",
        "outputId": "60172a2e-a3c1-4a71-8f15-c4a98024c526"
      },
      "execution_count": null,
      "outputs": [
        {
          "output_type": "execute_result",
          "data": {
            "text/plain": [
              "'Digito 2 incorreto'"
            ],
            "application/vnd.google.colaboratory.intrinsic+json": {
              "type": "string"
            }
          },
          "metadata": {},
          "execution_count": 20
        }
      ]
    },
    {
      "cell_type": "code",
      "source": [
        "#Criar um CPF é mais simples, basta chamar a função, se o pretty estiver True, retornará o CPF formatado\n",
        "createcpf(pretty=True)"
      ],
      "metadata": {
        "colab": {
          "base_uri": "https://localhost:8080/",
          "height": 35
        },
        "id": "CdySAg4BqD11",
        "outputId": "c8d60bf1-9b41-410a-c3d3-78460534fed0"
      },
      "execution_count": null,
      "outputs": [
        {
          "output_type": "execute_result",
          "data": {
            "text/plain": [
              "'627.617.871-32'"
            ],
            "application/vnd.google.colaboratory.intrinsic+json": {
              "type": "string"
            }
          },
          "metadata": {},
          "execution_count": 21
        }
      ]
    },
    {
      "cell_type": "code",
      "source": [
        "#Criar um CPF é mais simples, basta chamar a função, se o pretty estiver True, retornará o CPF formatado\n",
        "createcpf(pretty=False)"
      ],
      "metadata": {
        "colab": {
          "base_uri": "https://localhost:8080/",
          "height": 35
        },
        "id": "4vwcWyedqo1M",
        "outputId": "10093954-1afb-42be-c806-4ef1d6cdbb00"
      },
      "execution_count": null,
      "outputs": [
        {
          "output_type": "execute_result",
          "data": {
            "text/plain": [
              "'32040375097'"
            ],
            "application/vnd.google.colaboratory.intrinsic+json": {
              "type": "string"
            }
          },
          "metadata": {},
          "execution_count": 27
        }
      ]
    },
    {
      "cell_type": "code",
      "source": [
        "#Criar um CPF e validar\n",
        "cpf = createcpf(pretty=False)\n",
        "print(f'CPF gerado: {cpf}')\n",
        "print(len(cpf))\n",
        "checkcpf(cpf, pretty=True)"
      ],
      "metadata": {
        "colab": {
          "base_uri": "https://localhost:8080/",
          "height": 70
        },
        "id": "dtCt_13DrSmc",
        "outputId": "0ef86dbc-84dd-451d-abd0-75771ca9e1a6"
      },
      "execution_count": null,
      "outputs": [
        {
          "output_type": "stream",
          "name": "stdout",
          "text": [
            "CPF gerado: 95084750728\n",
            "11\n"
          ]
        },
        {
          "output_type": "execute_result",
          "data": {
            "text/plain": [
              "'950.847.507-28'"
            ],
            "application/vnd.google.colaboratory.intrinsic+json": {
              "type": "string"
            }
          },
          "metadata": {},
          "execution_count": 63
        }
      ]
    },
    {
      "cell_type": "code",
      "source": [
        "#Mostrar toda a base de cálculo\n",
        "checkcpf_teste('39585967626')"
      ],
      "metadata": {
        "colab": {
          "base_uri": "https://localhost:8080/"
        },
        "id": "zSj2P-rtscAO",
        "outputId": "75a0e607-7260-4e14-dc5e-6c114389a436"
      },
      "execution_count": null,
      "outputs": [
        {
          "output_type": "stream",
          "name": "stdout",
          "text": [
            "Calculo do primeiro verificador\n",
            "3x10 = 30\n",
            "9x9 = 81\n",
            "5x8 = 40\n",
            "8x7 = 56\n",
            "5x6 = 30\n",
            "9x5 = 45\n",
            "6x4 = 24\n",
            "7x3 = 21\n",
            "6x2 = 12\n",
            "Soma: 339\n",
            "Resto: 9\n",
            "Verificador 1: 2\n",
            "Calculo do segundo verificador\n",
            "3x11 = 33\n",
            "9x10 = 90\n",
            "5x9 = 45\n",
            "8x8 = 64\n",
            "5x7 = 35\n",
            "9x6 = 54\n",
            "6x5 = 30\n",
            "7x4 = 28\n",
            "6x3 = 18\n",
            "2x2 = 4\n",
            "Soma: 401\n",
            "Resto: 5\n",
            "Verificador 2: 6\n",
            "CPF verificado: 3958596762626\n",
            "CPF informado: 39585967626\n"
          ]
        }
      ]
    },
    {
      "cell_type": "code",
      "source": [
        "#Gerador de CPF e CNPJ do @rdemetrescu\n",
        "#https://gist.github.com/lucascnr/24c70409908a31ad253f97f9dd4c6b7c\n",
        "\n",
        "import random\n",
        "\n",
        "def generate_cpf():\n",
        "    cpf = [random.randrange(10) for _ in range(9)]\n",
        "\n",
        "    for _ in range(2):\n",
        "        value = sum([(len(cpf) + 1 - i) * v for i, v in enumerate(cpf)]) % 11\n",
        "        cpf.append(11 - value if value > 1 else 0)\n",
        "\n",
        "    return \"\".join(str(x) for x in cpf)\n",
        "\n",
        "\n",
        "def generate_cnpj():\n",
        "    cnpj = [random.randrange(10) for _ in range(8)] + [0, 0, 0, 1]\n",
        "\n",
        "    for _ in range(2):\n",
        "        value = sum(v * (i % 8 + 2) for i, v in enumerate(reversed(cnpj)))\n",
        "        digit = 11 - value % 11\n",
        "        cnpj.append(digit if digit < 10 else 0)\n",
        "\n",
        "    return \"\".join(str(x) for x in cnpj)\n",
        "\n",
        "\n",
        "#Gerar CNPJ\n",
        "print(f'CNPJ: {generate_cnpj()}')\n",
        "#Gerar CPF\n",
        "print(f'CPF: {generate_cpf()}')"
      ],
      "metadata": {
        "colab": {
          "base_uri": "https://localhost:8080/"
        },
        "id": "ELwlVyHtzJ17",
        "outputId": "86a0783b-e5f2-4dd4-c205-30a8ff741aa9"
      },
      "execution_count": null,
      "outputs": [
        {
          "output_type": "stream",
          "name": "stdout",
          "text": [
            "CNPJ: 61504694000199\n",
            "CPF: 39585967626\n"
          ]
        }
      ]
    }
  ]
}